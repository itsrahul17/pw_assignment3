{
 "cells": [
  {
   "cell_type": "code",
   "execution_count": null,
   "id": "4e8e9caa-8cef-4374-b59d-31ed68e02b86",
   "metadata": {},
   "outputs": [],
   "source": [
    "# Q1:- Explain with an example each when to use a for loop and a while loop."
   ]
  },
  {
   "cell_type": "code",
   "execution_count": 1,
   "id": "c024efa1-f3a4-46d4-aebc-43a0dd0c19a4",
   "metadata": {},
   "outputs": [
    {
     "name": "stdout",
     "output_type": "stream",
     "text": [
      "using for loop\n",
      "1\n",
      "2\n",
      "3\n",
      "4\n",
      "5\n",
      "using while loop\n",
      "1\n",
      "2\n",
      "3\n",
      "4\n",
      "5\n"
     ]
    }
   ],
   "source": [
    "'''A \"for loop\" is used when we want to repeat a specific block of code a certain number of times.\n",
    "For example, consider the following code which uses a for loop to print the numbers 1 to 5:'''\n",
    "print(\"using for loop\")\n",
    "for i in range(1, 6):\n",
    "    print(i)\n",
    "'''A \"while loop\" is used when we want to repeat a specific block of code an unknown number of times.\n",
    "The code inside the loop will be executed as long as the condition specified in the while statement is True. \n",
    "For example, consider the following code which uses a while loop to print the numbers 1 to 5:'''\n",
    "print(\"using while loop\")\n",
    "i = 1\n",
    "while i<=5 :\n",
    "    print(i)\n",
    "    i += 1"
   ]
  },
  {
   "cell_type": "code",
   "execution_count": null,
   "id": "5722094a-e104-4c15-8434-ef2b6ea1ca3d",
   "metadata": {},
   "outputs": [],
   "source": [
    "# Q2:- Write a python program to print the sum and product of the first 10 natural numbers by using for and while loop."
   ]
  },
  {
   "cell_type": "code",
   "execution_count": 2,
   "id": "e0db32af-e7b9-4870-a7fa-aba27f061637",
   "metadata": {},
   "outputs": [
    {
     "name": "stdout",
     "output_type": "stream",
     "text": [
      "by using for loop\n",
      "55 3628800\n",
      "by using while loop\n",
      "55 3628800\n"
     ]
    }
   ],
   "source": [
    "print(\"by using for loop\")\n",
    "_sum = 0\n",
    "_prod = 1\n",
    "for i in range(1, 11):\n",
    "    _sum += i\n",
    "    _prod *= i\n",
    "print(_sum, _prod)\n",
    "\n",
    "print(\"by using while loop\")\n",
    "i = 1\n",
    "_sum = 0\n",
    "_prod = 1\n",
    "while i<=10 :\n",
    "    _sum += i\n",
    "    _prod *= i\n",
    "    i += 1\n",
    "print(_sum, _prod)"
   ]
  },
  {
   "cell_type": "code",
   "execution_count": 3,
   "id": "a8dd1df7-2bb9-4128-8426-b6d988d80dad",
   "metadata": {},
   "outputs": [
    {
     "name": "stdin",
     "output_type": "stream",
     "text": [
      "enter the unit  310\n"
     ]
    },
    {
     "name": "stdout",
     "output_type": "stream",
     "text": [
      "2250.0\n"
     ]
    }
   ],
   "source": [
    "# Ans-3:-\n",
    "unit = int(input(\"enter the unit \"))\n",
    "bill = 0\n",
    "total_bill = 0\n",
    "if unit > 300:\n",
    "  bill = (unit-300)*20\n",
    "  total_bill += bill\n",
    "  unit = 300\n",
    "if unit>200:\n",
    "  bill = (unit-200)*10\n",
    "  total_bill += bill\n",
    "  unit = 200\n",
    "if unit > 100:\n",
    "  bill = (unit-100)*6\n",
    "  total_bill += bill\n",
    "  unit = 100\n",
    "if unit<=100:\n",
    "  bill = unit*4.5\n",
    "  total_bill += bill\n",
    "print(total_bill)\n"
   ]
  },
  {
   "cell_type": "code",
   "execution_count": 1,
   "id": "2e7fd9be-aee2-400e-8d45-dc7e6e289b5b",
   "metadata": {},
   "outputs": [
    {
     "name": "stdout",
     "output_type": "stream",
     "text": [
      "[1, 2, 3, 4, 5, 6, 7, 8, 9, 10, 11, 12, 13, 14, 15, 16, 17, 18, 19, 20, 21, 22, 23, 24, 25, 26, 27, 28, 29, 30, 31, 32, 33, 34, 35, 36, 37, 38, 39, 40, 41, 42, 43, 44, 45, 46, 47, 48, 49, 50, 51, 52, 53, 54, 55, 56, 57, 58, 59, 60, 61, 62, 63, 64, 65, 66, 67, 68, 69, 70, 71, 72, 73, 74, 75, 76, 77, 78, 79, 80, 81, 82, 83, 84, 85, 86, 87, 88, 89, 90, 91, 92, 93, 94, 95, 96, 97, 98, 99, 100]\n",
      "[2, 4, 5, 6, 8, 10, 12, 14, 15, 16, 18, 20, 22, 24, 25, 26, 28, 30, 32, 34, 35, 36, 38, 40, 42, 44, 45, 46, 48, 50, 52, 54, 55, 56, 58, 60, 62, 64, 65, 66, 68, 70, 72, 74, 75, 76, 78, 80, 82, 84, 85, 86, 88, 90, 92, 94, 95, 96, 98, 100]\n"
     ]
    }
   ],
   "source": [
    "l1 = []\n",
    "i = 1\n",
    "while i<=100:\n",
    "  l1.append(i)\n",
    "  i += 1\n",
    "print(l1)\n",
    "\n",
    "l2 = []\n",
    "for i in range(0,100):\n",
    "  cub = l1[i]*l1[i]*l1[i]\n",
    "  if (cub%4)==0 or (cub%5)==0:\n",
    "    l2.append(l1[i])\n",
    "\n",
    "print(l2)"
   ]
  },
  {
   "cell_type": "code",
   "execution_count": 2,
   "id": "9cf22875-5972-498f-9cb1-383c9e6712e0",
   "metadata": {},
   "outputs": [
    {
     "name": "stdout",
     "output_type": "stream",
     "text": [
      "33\n",
      "12\n"
     ]
    }
   ],
   "source": [
    "st = \"I want to become a data scientist\"\n",
    "i = 0\n",
    "_count = 0\n",
    "print(len(st))\n",
    "while i<len(st):\n",
    "  if st[i]==\"a\" or st[i]==\"e\" or st[i]==\"i\" or st[i]==\"o\" or st[i]==\"u\" or st[i]==\"A\" or st[i]==\"E\" or st[i]==\"I\" or st[i]==\"O\" or st[i]==\"U\":\n",
    "    _count += 1\n",
    "  i += 1\n",
    "print(_count)"
   ]
  },
  {
   "cell_type": "code",
   "execution_count": null,
   "id": "63ca9cf1-d340-4490-bd32-1e12c84a996b",
   "metadata": {},
   "outputs": [],
   "source": []
  }
 ],
 "metadata": {
  "kernelspec": {
   "display_name": "Python 3 (ipykernel)",
   "language": "python",
   "name": "python3"
  },
  "language_info": {
   "codemirror_mode": {
    "name": "ipython",
    "version": 3
   },
   "file_extension": ".py",
   "mimetype": "text/x-python",
   "name": "python",
   "nbconvert_exporter": "python",
   "pygments_lexer": "ipython3",
   "version": "3.10.8"
  }
 },
 "nbformat": 4,
 "nbformat_minor": 5
}
